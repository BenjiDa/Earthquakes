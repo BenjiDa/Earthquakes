{
 "cells": [
  {
   "cell_type": "code",
   "execution_count": 264,
   "metadata": {
    "collapsed": false
   },
   "outputs": [],
   "source": [
    "import requests\n",
    "import numpy as np\n",
    "import matplotlib.pyplot as plt\n",
    "from mpl_toolkits.mplot3d import Axes3D\n",
    "import json\n",
    "import datetime"
   ]
  },
  {
   "cell_type": "code",
   "execution_count": 270,
   "metadata": {
    "collapsed": false
   },
   "outputs": [
    {
     "data": {
      "text/plain": [
       "853"
      ]
     },
     "execution_count": 270,
     "metadata": {},
     "output_type": "execute_result"
    }
   ],
   "source": [
    "params = {'format':\"geojson\", \n",
    "          'starttime':'1984-01-01',\n",
    "          'endtime':'1985-01-02',\n",
    "          'minmagnitude':'3',\n",
    "          'latitude':'38.8677',\n",
    "          'longitude':'-121.5800',\n",
    "          'maxradius':'10'   \n",
    "}\n",
    "\n",
    "\n",
    "base_url = 'http://earthquake.usgs.gov/fdsnws/event/1/query?'\n",
    "def retrieve_usgs_earthquak_data(url):\n",
    "    geodata = requests.get(url=base_url, params=params) \n",
    "    return geodata.json()\n",
    "\n",
    "g = retrieve_usgs_earthquak_data(url)\n",
    "#print g\n",
    "\n",
    "features = g['features']\n",
    "len(features)"
   ]
  },
  {
   "cell_type": "code",
   "execution_count": 327,
   "metadata": {
    "collapsed": false
   },
   "outputs": [
    {
     "data": {
      "text/plain": [
       "846"
      ]
     },
     "execution_count": 327,
     "metadata": {},
     "output_type": "execute_result"
    }
   ],
   "source": [
    "relevant_earthquake_data = []\n",
    "\n",
    "for f in features:\n",
    "    depth = f['geometry']['coordinates'][2]*-1 # Converts earthquake depths to negative values.\n",
    "    if depth > -20: # Filters out earthquakes below 20 km.\n",
    "        feature_data = {'mag':f['properties']['mag'], \n",
    "                            'lat': f['geometry']['coordinates'][1], \n",
    "                            'long': f['geometry']['coordinates'][0],\n",
    "                            'depth': depth,\n",
    "                            'time': f['properties']['time']}\n",
    "        relevant_earthquake_data.append(feature_data)\n",
    "len(relevant_earthquake_data)\n"
   ]
  },
  {
   "cell_type": "code",
   "execution_count": 349,
   "metadata": {
    "collapsed": false
   },
   "outputs": [
    {
     "name": "stdout",
     "output_type": "stream",
     "text": [
      "473337342700\n"
     ]
    }
   ],
   "source": [
    "times = [eqd['time'] for eqd in relevant_earthquake_data]\n",
    "print(times[0])"
   ]
  },
  {
   "cell_type": "code",
   "execution_count": 366,
   "metadata": {
    "collapsed": false
   },
   "outputs": [
    {
     "name": "stdout",
     "output_type": "stream",
     "text": [
      "1969-12-31 16:00:00\n"
     ]
    }
   ],
   "source": [
    "#times[:] = [x / 1e3 for x in times]\n",
    "#print(times[0])\n",
    "\n",
    "date = datetime.datetime.fromtimestamp(times[2] / 1e3)\n",
    "print(date)\n",
    "\n",
    "    #date = datetime.datetime.fromtimestamp(times / 1e3)\n",
    "    #print(date)\n",
    "    \n",
    "\n",
    "    "
   ]
  },
  {
   "cell_type": "code",
   "execution_count": 280,
   "metadata": {
    "collapsed": false
   },
   "outputs": [],
   "source": [
    "\n",
    "    \n",
    "# print relevant_earthquake_data\n",
    "\n",
    "x = [f['long'] for f in relevant_earthquake_data]\n",
    "y = [f['lat'] for f in relevant_earthquake_data]\n",
    "z = [f['depth'] for f in relevant_earthquake_data]\n",
    "# z = [f*-1 for f in z if z > -20]\n",
    "\n",
    "# plt.plot(x,y,'b.')\n",
    "# plt.show()"
   ]
  },
  {
   "cell_type": "code",
   "execution_count": 323,
   "metadata": {
    "collapsed": false
   },
   "outputs": [
    {
     "name": "stdout",
     "output_type": "stream",
     "text": [
      "{}\n"
     ]
    }
   ],
   "source": [
    "relevant_earthquake_data = {}\n",
    "print(relevant_earthquake_data)"
   ]
  },
  {
   "cell_type": "code",
   "execution_count": 216,
   "metadata": {
    "collapsed": false
   },
   "outputs": [],
   "source": [
    "fig = plt.figure()\n",
    "ax = fig.add_subplot(111, projection='3d')\n",
    "\n",
    "\n",
    "ax.scatter(x, y, z)\n",
    "\n",
    "ax.set_xlabel('Longitude')\n",
    "ax.set_ylabel('Latitude')\n",
    "ax.set_zlabel('Depth (km)')\n",
    "\n",
    "# #ploting cities\n",
    "# cl = [38.9612, -122.6300]\n",
    "# r = [38.8897, -122.2371]\n",
    "# mr = [38.8733, -122.4256]\n",
    "\n",
    "\n",
    "plt.show()"
   ]
  },
  {
   "cell_type": "code",
   "execution_count": 176,
   "metadata": {
    "collapsed": false
   },
   "outputs": [
    {
     "ename": "TypeError",
     "evalue": "'list' object is not callable",
     "output_type": "error",
     "traceback": [
      "\u001b[0;31m---------------------------------------------------------------------------\u001b[0m",
      "\u001b[0;31mTypeError\u001b[0m                                 Traceback (most recent call last)",
      "\u001b[0;32m<ipython-input-176-b407667b52fc>\u001b[0m in \u001b[0;36m<module>\u001b[0;34m()\u001b[0m\n\u001b[1;32m      3\u001b[0m \u001b[0mmr\u001b[0m \u001b[0;34m=\u001b[0m \u001b[0;34m[\u001b[0m\u001b[0;36m38.8733\u001b[0m\u001b[0;34m,\u001b[0m \u001b[0;34m-\u001b[0m\u001b[0;36m122.4256\u001b[0m\u001b[0;34m]\u001b[0m\u001b[0;34m\u001b[0m\u001b[0m\n\u001b[1;32m      4\u001b[0m \u001b[0;34m\u001b[0m\u001b[0m\n\u001b[0;32m----> 5\u001b[0;31m \u001b[0;32mprint\u001b[0m \u001b[0mcl\u001b[0m\u001b[0;34m(\u001b[0m\u001b[0;36m1\u001b[0m\u001b[0;34m)\u001b[0m\u001b[0;34m\u001b[0m\u001b[0m\n\u001b[0m",
      "\u001b[0;31mTypeError\u001b[0m: 'list' object is not callable"
     ]
    }
   ],
   "source": [
    "cl = [38.9612, -122.6300]\n",
    "r = [38.8897, -122.2371]\n",
    "mr = [38.8733, -122.4256]\n"
   ]
  },
  {
   "cell_type": "code",
   "execution_count": 7,
   "metadata": {
    "collapsed": false
   },
   "outputs": [
    {
     "ename": "TypeError",
     "evalue": "list indices must be integers, not str",
     "output_type": "error",
     "traceback": [
      "\u001b[0;31m---------------------------------------------------------------------------\u001b[0m",
      "\u001b[0;31mTypeError\u001b[0m                                 Traceback (most recent call last)",
      "\u001b[0;32m<ipython-input-7-4e2d879606f5>\u001b[0m in \u001b[0;36m<module>\u001b[0;34m()\u001b[0m\n\u001b[0;32m----> 1\u001b[0;31m \u001b[0mp\u001b[0m \u001b[0;34m=\u001b[0m \u001b[0mfeatures\u001b[0m\u001b[0;34m[\u001b[0m\u001b[0;34m'properties'\u001b[0m\u001b[0;34m]\u001b[0m\u001b[0;34m\u001b[0m\u001b[0m\n\u001b[0m\u001b[1;32m      2\u001b[0m \u001b[0mp\u001b[0m\u001b[0;34m[\u001b[0m\u001b[0;34m'mag'\u001b[0m\u001b[0;34m]\u001b[0m\u001b[0;34m\u001b[0m\u001b[0m\n",
      "\u001b[0;31mTypeError\u001b[0m: list indices must be integers, not str"
     ]
    }
   ],
   "source": [
    "p = features['properties']\n",
    "p['mag']"
   ]
  },
  {
   "cell_type": "code",
   "execution_count": 9,
   "metadata": {
    "collapsed": false,
    "scrolled": true
   },
   "outputs": [],
   "source": [
    "\n"
   ]
  },
  {
   "cell_type": "code",
   "execution_count": 10,
   "metadata": {
    "collapsed": false
   },
   "outputs": [],
   "source": [
    "\n"
   ]
  },
  {
   "cell_type": "code",
   "execution_count": 35,
   "metadata": {
    "collapsed": false
   },
   "outputs": [
    {
     "name": "stdout",
     "output_type": "stream",
     "text": [
      "[2.56, 2.58]\n"
     ]
    }
   ],
   "source": [
    "mags = [f['properties']['mag'] for f in features]\n",
    "print mags"
   ]
  },
  {
   "cell_type": "code",
   "execution_count": 36,
   "metadata": {
    "collapsed": false
   },
   "outputs": [
    {
     "name": "stdout",
     "output_type": "stream",
     "text": [
      "[[-122.2288333, 40.1755, 32.75], [-123.2296667, 39.2683333, 6.07]]\n"
     ]
    }
   ],
   "source": [
    "coord = [f['geometry']['coordinates'] for f in features]\n",
    "print coord"
   ]
  },
  {
   "cell_type": "code",
   "execution_count": 39,
   "metadata": {
    "collapsed": false
   },
   "outputs": [
    {
     "name": "stdout",
     "output_type": "stream",
     "text": [
      "[-122.2288333, 40.1755, 32.75]\n"
     ]
    }
   ],
   "source": [
    "coors = features[0]['geometry']['coordinates']\n",
    "print coors"
   ]
  },
  {
   "cell_type": "markdown",
   "metadata": {},
   "source": [
    "g"
   ]
  },
  {
   "cell_type": "code",
   "execution_count": 31,
   "metadata": {
    "collapsed": false
   },
   "outputs": [
    {
     "data": {
      "text/plain": [
       "{u'bbox': [-123.2296667, 39.2683333, 6.07, -122.2288333, 40.1755, 32.75],\n",
       " u'features': [{u'geometry': {u'coordinates': [-122.2288333, 40.1755, 32.75],\n",
       "    u'type': u'Point'},\n",
       "   u'id': u'nc72572400',\n",
       "   u'properties': {u'alert': None,\n",
       "    u'cdi': 1,\n",
       "    u'code': u'72572400',\n",
       "    u'detail': u'http://earthquake.usgs.gov/fdsnws/event/1/query?eventid=nc72572400&format=geojson',\n",
       "    u'dmin': 0.08573,\n",
       "    u'felt': 0,\n",
       "    u'gap': 124,\n",
       "    u'ids': u',nc72572400,',\n",
       "    u'mag': 2.56,\n",
       "    u'magType': u'md',\n",
       "    u'mmi': None,\n",
       "    u'net': u'nc',\n",
       "    u'nst': 20,\n",
       "    u'place': u'0km ESE of Red Bluff, California',\n",
       "    u'rms': 0.18,\n",
       "    u'sig': 101,\n",
       "    u'sources': u',nc,',\n",
       "    u'status': u'reviewed',\n",
       "    u'time': 1451678559870,\n",
       "    u'title': u'M 2.6 - 0km ESE of Red Bluff, California',\n",
       "    u'tsunami': 0,\n",
       "    u'type': u'earthquake',\n",
       "    u'types': u',dyfi,general-link,geoserve,nearby-cities,origin,phase-data,scitech-link,',\n",
       "    u'tz': -480,\n",
       "    u'updated': 1452297544561,\n",
       "    u'url': u'http://earthquake.usgs.gov/earthquakes/eventpage/nc72572400'},\n",
       "   u'type': u'Feature'},\n",
       "  {u'geometry': {u'coordinates': [-123.2296667, 39.2683333, 6.07],\n",
       "    u'type': u'Point'},\n",
       "   u'id': u'nc72572310',\n",
       "   u'properties': {u'alert': None,\n",
       "    u'cdi': 3.4,\n",
       "    u'code': u'72572310',\n",
       "    u'detail': u'http://earthquake.usgs.gov/fdsnws/event/1/query?eventid=nc72572310&format=geojson',\n",
       "    u'dmin': 0.08355,\n",
       "    u'felt': 27,\n",
       "    u'gap': 77,\n",
       "    u'ids': u',nc72572310,',\n",
       "    u'mag': 2.58,\n",
       "    u'magType': u'md',\n",
       "    u'mmi': None,\n",
       "    u'net': u'nc',\n",
       "    u'nst': 39,\n",
       "    u'place': u'2km W of Redwood Valley, California',\n",
       "    u'rms': 0.05,\n",
       "    u'sig': 112,\n",
       "    u'sources': u',nc,',\n",
       "    u'status': u'reviewed',\n",
       "    u'time': 1451655630650,\n",
       "    u'title': u'M 2.6 - 2km W of Redwood Valley, California',\n",
       "    u'tsunami': 0,\n",
       "    u'type': u'earthquake',\n",
       "    u'types': u',dyfi,focal-mechanism,general-link,geoserve,nearby-cities,origin,phase-data,scitech-link,tectonic-summary,',\n",
       "    u'tz': -480,\n",
       "    u'updated': 1451948006965,\n",
       "    u'url': u'http://earthquake.usgs.gov/earthquakes/eventpage/nc72572310'},\n",
       "   u'type': u'Feature'}],\n",
       " u'metadata': {u'api': u'1.5.2',\n",
       "  u'count': 2,\n",
       "  u'generated': 1466112823000,\n",
       "  u'status': 200,\n",
       "  u'title': u'USGS Earthquakes',\n",
       "  u'url': u'http://earthquake.usgs.gov/fdsnws/event/1/query?format=geojson&starttime=2016-01-01&endtime=2016-01-02&minmagnitude=2.5&latitude=38.9582&longitude=-122.6264&maxradius=10'},\n",
       " u'type': u'FeatureCollection'}"
      ]
     },
     "execution_count": 31,
     "metadata": {},
     "output_type": "execute_result"
    }
   ],
   "source": [
    "g"
   ]
  },
  {
   "cell_type": "code",
   "execution_count": null,
   "metadata": {
    "collapsed": true
   },
   "outputs": [],
   "source": []
  }
 ],
 "metadata": {
  "kernelspec": {
   "display_name": "Python 2",
   "language": "python",
   "name": "python2"
  },
  "language_info": {
   "codemirror_mode": {
    "name": "ipython",
    "version": 2
   },
   "file_extension": ".py",
   "mimetype": "text/x-python",
   "name": "python",
   "nbconvert_exporter": "python",
   "pygments_lexer": "ipython2",
   "version": "2.7.11"
  }
 },
 "nbformat": 4,
 "nbformat_minor": 0
}
